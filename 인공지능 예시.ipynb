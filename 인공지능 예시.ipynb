{
  "nbformat": 4,
  "nbformat_minor": 0,
  "metadata": {
    "colab": {
      "name": "Untitled0.ipynb",
      "provenance": [],
      "authorship_tag": "ABX9TyMz8FCwgbiP7wCPACJtQXGx",
      "include_colab_link": true
    },
    "kernelspec": {
      "name": "python3",
      "display_name": "Python 3"
    }
  },
  "cells": [
    {
      "cell_type": "markdown",
      "metadata": {
        "id": "view-in-github",
        "colab_type": "text"
      },
      "source": [
        "<a href=\"https://colab.research.google.com/github/yno1996/study/blob/master/%EC%9D%B8%EA%B3%B5%EC%A7%80%EB%8A%A5%20%EC%98%88%EC%8B%9C.ipynb\" target=\"_parent\"><img src=\"https://colab.research.google.com/assets/colab-badge.svg\" alt=\"Open In Colab\"/></a>"
      ]
    },
    {
      "cell_type": "markdown",
      "metadata": {
        "id": "A5kTz6d5_Op1",
        "colab_type": "text"
      },
      "source": [
        "1주차 과제\n"
      ]
    },
    {
      "cell_type": "markdown",
      "metadata": {
        "id": "VwAVl0Yh_RQq",
        "colab_type": "text"
      },
      "source": [
        "###인공지능은 현재 많은 제품과 서비스에 적용되어 있습니다. 특히 언어, 음성, 이미지, 자율주행의 분야에서 자주 찾아볼 수 있는데요.시중에 나와있는 다양한 제품들과 서비스 속 적용된 인공지능 기술들에 대해서 분석해 보고 여러분의 흥미를 끄는 기술들은 무엇이 있는지 찾아 보며 여러분 나름의 학습 목표를 세워보시기 바랍니다.앞서 제시해 드린 4가지 분야의 기술을 사용하는 4가지 제품 및 서비스를 찾아 깃헙 마크다운으로 작성하여 url과 여러분의 과제 목차 스크린 캡처를 제출해주세요."
      ]
    },
    {
      "cell_type": "markdown",
      "metadata": {
        "id": "YdPFNwHxBPON",
        "colab_type": "text"
      },
      "source": [
        "* 언어 \n",
        "  * 번역프로그램/번역기\n",
        "  * 대표적으로 구글과 파파고 번역기가 있음\n",
        "  * [참고](https://iropke.com/archive/artificial-translator.html)\n",
        "  \n",
        "\n",
        "\n",
        "* 음성\n",
        "  * 음성인식 (음성으로 명령을 내리면 AI가 검색이나 음악 재생, 쇼핑까지 다양한 기능을 처리)\n",
        "  * 대표적으로 시리(Siri), 빅스비, 구글 어시스턴스 등등\n",
        "  * \"AI 스피커는 주인의 명령어를 듣고, 또 답하기 위해 스피커 형태를 띠고 있으며 “OK Google”, “Alexa”, “아리” 등의 특정 명령어(Wake word)가 들리면 활성화\"\n",
        "  * [참고](https://iropke.com/archive/ai-speaker.html)\n",
        "\n",
        "\n",
        "* 이미지\n",
        "  * 이미지 분석/객체인식/제스처 인식/ 이미지 분류\n",
        "  * 대표적으로 스마트 팩토리, 보안 검색대, 무인 스토어 등등에서 사용.\n",
        "  * [참고1](https://post.naver.com/viewer/postView.nhn?volumeNo=17875379&memberNo=39046504)\n",
        "  * [참고2](http://www.aitimes.kr/news/articleView.html?idxno=12087)\n",
        "\n",
        "\n",
        "\n",
        "* 자율주행\n",
        "  * 자율주행 자동차\n",
        "  * \"인공지능 시스템을 통한 완전 자율주행 자동차는 운전자의 운전 조작이 전혀 없이 자동차 스스로 주행 환경을 인식해 목표 지점까지 운행함에 따라 운전자의 부주의로 인한 교통사고를 미연에 예방하고, 편리한 운전 환경을 제공할 수 있게 된다.\"\n",
        "  * [참고](http://www.hellot.net/new_hellot/magazine/magazine_read.html?code=202&sub=001&idx=31532)\n",
        "  \n",
        "\n",
        "\n",
        "\n",
        "\n",
        "\n",
        "\n",
        "\n",
        "\n",
        "\n",
        "\n",
        "\n",
        "\n",
        "\n",
        "\n",
        "\n",
        "\n",
        "\n",
        "\n",
        "\n",
        "\n",
        "\n",
        "  "
      ]
    }
  ]
}